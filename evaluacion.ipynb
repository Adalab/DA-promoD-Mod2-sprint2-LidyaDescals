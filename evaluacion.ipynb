{
 "cells": [
  {
   "cell_type": "markdown",
   "metadata": {},
   "source": [
    "# **Ejercicios de la evaluación del Módulo 2 Sprint 2**\n",
    "\n",
    "### **Lidya Descals**\n",
    "\n",
    "---"
   ]
  },
  {
   "cell_type": "code",
   "execution_count": 2,
   "metadata": {},
   "outputs": [],
   "source": [
    "import pandas as pd\n",
    "import numpy as np\n",
    "import sidetable \n",
    "import requests\n",
    "from datetime import datetime, timedelta\n",
    "import mysql.connector\n",
    "from IPython.core.interactiveshell import InteractiveShell \n",
    "InteractiveShell.ast_node_interactivity = \"all\" \n",
    "from geopy.geocoders import Nominatim"
   ]
  },
  {
   "cell_type": "code",
   "execution_count": 3,
   "metadata": {},
   "outputs": [
    {
     "name": "stdout",
     "output_type": "stream",
     "text": [
      "La solicitud ha tenido una respuesta con código 200, y nos devuelve el mensaje OK\n"
     ]
    }
   ],
   "source": [
    "url_argentina = \"http://universities.hipolabs.com/search?country=Argentina\"\n",
    "response_argentina = requests.get(url = url_argentina)\n",
    "print(f\"La solicitud ha tenido una respuesta con código {response_argentina.status_code}, y nos devuelve el mensaje {response_argentina.reason}\")\n",
    "df_argentina = pd.DataFrame(response_argentina.json())"
   ]
  },
  {
   "cell_type": "code",
   "execution_count": 4,
   "metadata": {},
   "outputs": [
    {
     "name": "stdout",
     "output_type": "stream",
     "text": [
      "La solicitud ha tenido una respuesta con código 200, y nos devuelve el mensaje OK\n"
     ]
    }
   ],
   "source": [
    "url_canada = \"http://universities.hipolabs.com/search?country=Canada\"\n",
    "response_canada = requests.get(url = url_canada)\n",
    "print(f\"La solicitud ha tenido una respuesta con código {response_canada.status_code}, y nos devuelve el mensaje {response_canada.reason}\")\n",
    "df_canada = pd.DataFrame(response_canada.json())"
   ]
  },
  {
   "cell_type": "code",
   "execution_count": 5,
   "metadata": {},
   "outputs": [
    {
     "name": "stdout",
     "output_type": "stream",
     "text": [
      "La solicitud ha tenido una respuesta con código 200, y nos devuelve el mensaje OK\n"
     ]
    }
   ],
   "source": [
    "url_eeuu = \"http://universities.hipolabs.com/search?country=United States\"\n",
    "response_eeuu = requests.get(url = url_eeuu)\n",
    "print(f\"La solicitud ha tenido una respuesta con código {response_eeuu.status_code}, y nos devuelve el mensaje {response_eeuu.reason}\")\n",
    "df_eeuu = pd.DataFrame(response_eeuu.json())\n"
   ]
  },
  {
   "cell_type": "code",
   "execution_count": 6,
   "metadata": {},
   "outputs": [
    {
     "data": {
      "text/html": [
       "<div>\n",
       "<style scoped>\n",
       "    .dataframe tbody tr th:only-of-type {\n",
       "        vertical-align: middle;\n",
       "    }\n",
       "\n",
       "    .dataframe tbody tr th {\n",
       "        vertical-align: top;\n",
       "    }\n",
       "\n",
       "    .dataframe thead th {\n",
       "        text-align: right;\n",
       "    }\n",
       "</style>\n",
       "<table border=\"1\" class=\"dataframe\">\n",
       "  <thead>\n",
       "    <tr style=\"text-align: right;\">\n",
       "      <th></th>\n",
       "      <th>state-province</th>\n",
       "      <th>domains</th>\n",
       "      <th>name</th>\n",
       "      <th>country</th>\n",
       "      <th>web_pages</th>\n",
       "      <th>alpha_two_code</th>\n",
       "    </tr>\n",
       "  </thead>\n",
       "  <tbody>\n",
       "    <tr>\n",
       "      <th>0</th>\n",
       "      <td>Buenos Aires</td>\n",
       "      <td>[atlantida.edu.ar]</td>\n",
       "      <td>Universidad Atlantida Argentina</td>\n",
       "      <td>Argentina</td>\n",
       "      <td>[http://www.atlantida.edu.ar/]</td>\n",
       "      <td>AR</td>\n",
       "    </tr>\n",
       "    <tr>\n",
       "      <th>1</th>\n",
       "      <td>Buenos Aires</td>\n",
       "      <td>[austral.edu.ar]</td>\n",
       "      <td>Universidad Austral Buenos Aires</td>\n",
       "      <td>Argentina</td>\n",
       "      <td>[http://www.austral.edu.ar/]</td>\n",
       "      <td>AR</td>\n",
       "    </tr>\n",
       "    <tr>\n",
       "      <th>2</th>\n",
       "      <td>Ciudad Autónoma de Buenos Aires</td>\n",
       "      <td>[caece.edu.ar]</td>\n",
       "      <td>Universidad CAECE, Buenos Aires</td>\n",
       "      <td>Argentina</td>\n",
       "      <td>[http://www.caece.edu.ar/]</td>\n",
       "      <td>AR</td>\n",
       "    </tr>\n",
       "    <tr>\n",
       "      <th>3</th>\n",
       "      <td>Ciudad Autónoma de Buenos Aires</td>\n",
       "      <td>[cema.edu.ar]</td>\n",
       "      <td>Instituto Universitario CEMA</td>\n",
       "      <td>Argentina</td>\n",
       "      <td>[http://www.cema.edu.ar/]</td>\n",
       "      <td>AR</td>\n",
       "    </tr>\n",
       "    <tr>\n",
       "      <th>4</th>\n",
       "      <td>Ciudad Autónoma de Buenos Aires</td>\n",
       "      <td>[iese.edu.ar]</td>\n",
       "      <td>Instituto de Enseñanza Superior del Ejército</td>\n",
       "      <td>Argentina</td>\n",
       "      <td>[http://www.iese.edu.ar/]</td>\n",
       "      <td>AR</td>\n",
       "    </tr>\n",
       "  </tbody>\n",
       "</table>\n",
       "</div>"
      ],
      "text/plain": [
       "                    state-province             domains  \\\n",
       "0                     Buenos Aires  [atlantida.edu.ar]   \n",
       "1                     Buenos Aires    [austral.edu.ar]   \n",
       "2  Ciudad Autónoma de Buenos Aires      [caece.edu.ar]   \n",
       "3  Ciudad Autónoma de Buenos Aires       [cema.edu.ar]   \n",
       "4  Ciudad Autónoma de Buenos Aires       [iese.edu.ar]   \n",
       "\n",
       "                                           name    country  \\\n",
       "0               Universidad Atlantida Argentina  Argentina   \n",
       "1              Universidad Austral Buenos Aires  Argentina   \n",
       "2               Universidad CAECE, Buenos Aires  Argentina   \n",
       "3                  Instituto Universitario CEMA  Argentina   \n",
       "4  Instituto de Enseñanza Superior del Ejército  Argentina   \n",
       "\n",
       "                        web_pages alpha_two_code  \n",
       "0  [http://www.atlantida.edu.ar/]             AR  \n",
       "1    [http://www.austral.edu.ar/]             AR  \n",
       "2      [http://www.caece.edu.ar/]             AR  \n",
       "3       [http://www.cema.edu.ar/]             AR  \n",
       "4       [http://www.iese.edu.ar/]             AR  "
      ]
     },
     "execution_count": 6,
     "metadata": {},
     "output_type": "execute_result"
    }
   ],
   "source": [
    "df_argentina.head(5)"
   ]
  },
  {
   "cell_type": "code",
   "execution_count": 7,
   "metadata": {},
   "outputs": [
    {
     "data": {
      "text/html": [
       "<div>\n",
       "<style scoped>\n",
       "    .dataframe tbody tr th:only-of-type {\n",
       "        vertical-align: middle;\n",
       "    }\n",
       "\n",
       "    .dataframe tbody tr th {\n",
       "        vertical-align: top;\n",
       "    }\n",
       "\n",
       "    .dataframe thead th {\n",
       "        text-align: right;\n",
       "    }\n",
       "</style>\n",
       "<table border=\"1\" class=\"dataframe\">\n",
       "  <thead>\n",
       "    <tr style=\"text-align: right;\">\n",
       "      <th></th>\n",
       "      <th>state-province</th>\n",
       "      <th>domains</th>\n",
       "      <th>name</th>\n",
       "      <th>country</th>\n",
       "      <th>web_pages</th>\n",
       "      <th>alpha_two_code</th>\n",
       "    </tr>\n",
       "  </thead>\n",
       "  <tbody>\n",
       "    <tr>\n",
       "      <th>0</th>\n",
       "      <td>Quebec</td>\n",
       "      <td>[cstj.qc.ca]</td>\n",
       "      <td>Cégep de Saint-Jérôme</td>\n",
       "      <td>Canada</td>\n",
       "      <td>[https://www.cstj.qc.ca, https://ccmt.cstj.qc....</td>\n",
       "      <td>CA</td>\n",
       "    </tr>\n",
       "    <tr>\n",
       "      <th>1</th>\n",
       "      <td>Ontario</td>\n",
       "      <td>[lambtoncollege.ca, mylambton.ca]</td>\n",
       "      <td>Lambton College</td>\n",
       "      <td>Canada</td>\n",
       "      <td>[https://www.lambtoncollege.ca]</td>\n",
       "      <td>CA</td>\n",
       "    </tr>\n",
       "    <tr>\n",
       "      <th>2</th>\n",
       "      <td>Nova Scotia</td>\n",
       "      <td>[acadiau.ca]</td>\n",
       "      <td>Acadia University</td>\n",
       "      <td>Canada</td>\n",
       "      <td>[http://www.acadiau.ca/]</td>\n",
       "      <td>CA</td>\n",
       "    </tr>\n",
       "    <tr>\n",
       "      <th>3</th>\n",
       "      <td>Ontario</td>\n",
       "      <td>[algonquincollege.com]</td>\n",
       "      <td>Algonquin College</td>\n",
       "      <td>Canada</td>\n",
       "      <td>[http://www.algonquincollege.com/]</td>\n",
       "      <td>CA</td>\n",
       "    </tr>\n",
       "    <tr>\n",
       "      <th>4</th>\n",
       "      <td>British Columbia</td>\n",
       "      <td>[ashtoncollege.com]</td>\n",
       "      <td>Ashton College</td>\n",
       "      <td>Canada</td>\n",
       "      <td>[http://www.ashtoncollege.com/]</td>\n",
       "      <td>CA</td>\n",
       "    </tr>\n",
       "  </tbody>\n",
       "</table>\n",
       "</div>"
      ],
      "text/plain": [
       "     state-province                            domains                   name  \\\n",
       "0            Quebec                       [cstj.qc.ca]  Cégep de Saint-Jérôme   \n",
       "1           Ontario  [lambtoncollege.ca, mylambton.ca]        Lambton College   \n",
       "2       Nova Scotia                       [acadiau.ca]      Acadia University   \n",
       "3           Ontario             [algonquincollege.com]      Algonquin College   \n",
       "4  British Columbia                [ashtoncollege.com]         Ashton College   \n",
       "\n",
       "  country                                          web_pages alpha_two_code  \n",
       "0  Canada  [https://www.cstj.qc.ca, https://ccmt.cstj.qc....             CA  \n",
       "1  Canada                    [https://www.lambtoncollege.ca]             CA  \n",
       "2  Canada                           [http://www.acadiau.ca/]             CA  \n",
       "3  Canada                 [http://www.algonquincollege.com/]             CA  \n",
       "4  Canada                    [http://www.ashtoncollege.com/]             CA  "
      ]
     },
     "execution_count": 7,
     "metadata": {},
     "output_type": "execute_result"
    }
   ],
   "source": [
    "df_canada.head(5)"
   ]
  },
  {
   "cell_type": "code",
   "execution_count": 8,
   "metadata": {},
   "outputs": [
    {
     "data": {
      "text/html": [
       "<div>\n",
       "<style scoped>\n",
       "    .dataframe tbody tr th:only-of-type {\n",
       "        vertical-align: middle;\n",
       "    }\n",
       "\n",
       "    .dataframe tbody tr th {\n",
       "        vertical-align: top;\n",
       "    }\n",
       "\n",
       "    .dataframe thead th {\n",
       "        text-align: right;\n",
       "    }\n",
       "</style>\n",
       "<table border=\"1\" class=\"dataframe\">\n",
       "  <thead>\n",
       "    <tr style=\"text-align: right;\">\n",
       "      <th></th>\n",
       "      <th>state-province</th>\n",
       "      <th>domains</th>\n",
       "      <th>name</th>\n",
       "      <th>country</th>\n",
       "      <th>web_pages</th>\n",
       "      <th>alpha_two_code</th>\n",
       "    </tr>\n",
       "  </thead>\n",
       "  <tbody>\n",
       "    <tr>\n",
       "      <th>0</th>\n",
       "      <td>None</td>\n",
       "      <td>[marywood.edu]</td>\n",
       "      <td>Marywood University</td>\n",
       "      <td>United States</td>\n",
       "      <td>[http://www.marywood.edu]</td>\n",
       "      <td>US</td>\n",
       "    </tr>\n",
       "    <tr>\n",
       "      <th>1</th>\n",
       "      <td>None</td>\n",
       "      <td>[lindenwood.edu]</td>\n",
       "      <td>Lindenwood University</td>\n",
       "      <td>United States</td>\n",
       "      <td>[http://www.lindenwood.edu/]</td>\n",
       "      <td>US</td>\n",
       "    </tr>\n",
       "    <tr>\n",
       "      <th>2</th>\n",
       "      <td>None</td>\n",
       "      <td>[sullivan.edu]</td>\n",
       "      <td>Sullivan University</td>\n",
       "      <td>United States</td>\n",
       "      <td>[https://sullivan.edu/]</td>\n",
       "      <td>US</td>\n",
       "    </tr>\n",
       "    <tr>\n",
       "      <th>3</th>\n",
       "      <td>None</td>\n",
       "      <td>[fscj.edu]</td>\n",
       "      <td>Florida State College at Jacksonville</td>\n",
       "      <td>United States</td>\n",
       "      <td>[https://www.fscj.edu/]</td>\n",
       "      <td>US</td>\n",
       "    </tr>\n",
       "    <tr>\n",
       "      <th>4</th>\n",
       "      <td>None</td>\n",
       "      <td>[xavier.edu]</td>\n",
       "      <td>Xavier University</td>\n",
       "      <td>United States</td>\n",
       "      <td>[https://www.xavier.edu/]</td>\n",
       "      <td>US</td>\n",
       "    </tr>\n",
       "  </tbody>\n",
       "</table>\n",
       "</div>"
      ],
      "text/plain": [
       "  state-province           domains                                   name  \\\n",
       "0           None    [marywood.edu]                    Marywood University   \n",
       "1           None  [lindenwood.edu]                  Lindenwood University   \n",
       "2           None    [sullivan.edu]                    Sullivan University   \n",
       "3           None        [fscj.edu]  Florida State College at Jacksonville   \n",
       "4           None      [xavier.edu]                      Xavier University   \n",
       "\n",
       "         country                     web_pages alpha_two_code  \n",
       "0  United States     [http://www.marywood.edu]             US  \n",
       "1  United States  [http://www.lindenwood.edu/]             US  \n",
       "2  United States       [https://sullivan.edu/]             US  \n",
       "3  United States       [https://www.fscj.edu/]             US  \n",
       "4  United States     [https://www.xavier.edu/]             US  "
      ]
     },
     "execution_count": 8,
     "metadata": {},
     "output_type": "execute_result"
    }
   ],
   "source": [
    "df_eeuu.head(5)"
   ]
  },
  {
   "cell_type": "code",
   "execution_count": 9,
   "metadata": {},
   "outputs": [],
   "source": [
    "df_argentina.rename(columns = {col:col.replace(\"-\", \"_\") for col in df_argentina.columns}, inplace = True)\n",
    "df_canada.rename(columns = {col:col.replace(\"-\", \"_\") for col in df_canada.columns}, inplace = True)\n",
    "df_eeuu.rename(columns = {col:col.replace(\"-\", \"_\") for col in df_eeuu.columns}, inplace = True)"
   ]
  },
  {
   "cell_type": "code",
   "execution_count": 10,
   "metadata": {},
   "outputs": [],
   "source": [
    "df_argentina.drop([\"domains\"], axis = 1, inplace = True)\n",
    "df_canada.drop([\"domains\"], axis = 1, inplace = True)\n",
    "df_eeuu.drop([\"domains\"], axis = 1, inplace = True)"
   ]
  },
  {
   "cell_type": "code",
   "execution_count": 11,
   "metadata": {},
   "outputs": [],
   "source": [
    "df_argentina = df_argentina.explode(\"web_pages\")\n",
    "df_canada = df_canada.explode(\"web_pages\")\n",
    "df_eeuu = df_eeuu.explode(\"web_pages\")"
   ]
  },
  {
   "cell_type": "code",
   "execution_count": 12,
   "metadata": {},
   "outputs": [
    {
     "name": "stdout",
     "output_type": "stream",
     "text": [
      "El df_argentina tiene 0 duplicados\n",
      "El df_canada tiene 4 duplicados\n",
      "El df_eeuu tiene 20 duplicados\n"
     ]
    }
   ],
   "source": [
    "print(f\"El df_argentina tiene {df_argentina.duplicated(['name']).sum()} duplicados\")\n",
    "print(f\"El df_canada tiene {df_canada.duplicated(['name']).sum()} duplicados\")\n",
    "print(f\"El df_eeuu tiene {df_eeuu.duplicated(['name']).sum()} duplicados\")"
   ]
  },
  {
   "cell_type": "code",
   "execution_count": 13,
   "metadata": {},
   "outputs": [],
   "source": [
    "df_canada.drop_duplicates([\"name\"], inplace = True)\n",
    "df_eeuu.drop_duplicates([\"name\"], inplace = True)"
   ]
  },
  {
   "cell_type": "code",
   "execution_count": 14,
   "metadata": {},
   "outputs": [
    {
     "name": "stdout",
     "output_type": "stream",
     "text": [
      "El df_argentina tiene 0 duplicados\n",
      "El df_canada tiene 0 duplicados\n",
      "El df_eeuu tiene 0 duplicados\n"
     ]
    }
   ],
   "source": [
    "print(f\"El df_argentina tiene {df_argentina.duplicated(['name']).sum()} duplicados\")\n",
    "print(f\"El df_canada tiene {df_canada.duplicated(['name']).sum()} duplicados\")\n",
    "print(f\"El df_eeuu tiene {df_eeuu.duplicated(['name']).sum()} duplicados\")"
   ]
  },
  {
   "cell_type": "code",
   "execution_count": 15,
   "metadata": {},
   "outputs": [],
   "source": [
    "df_argentina.fillna(value= np.nan, inplace=True)\n",
    "df_canada.fillna(value= np.nan, inplace=True)\n",
    "df_eeuu.fillna(value= np.nan, inplace=True)"
   ]
  },
  {
   "cell_type": "code",
   "execution_count": 16,
   "metadata": {},
   "outputs": [
    {
     "name": "stdout",
     "output_type": "stream",
     "text": [
      "El dataframe df_argentina tiene un total de 22 nulos en la columna 'state_province'.\n",
      "El dataframe df_canada tiene un total de 8 nulos en la columna 'state_province'.\n",
      "El dataframe df_eeuu tiene un total de 2208 nulos en la columna 'state_province'.\n"
     ]
    }
   ],
   "source": [
    "print(f\"El dataframe df_argentina tiene un total de {df_argentina['state_province'].isnull().sum()} nulos en la columna 'state_province'.\")\n",
    "print(f\"El dataframe df_canada tiene un total de {df_canada['state_province'].isnull().sum()} nulos en la columna 'state_province'.\")\n",
    "print(f\"El dataframe df_eeuu tiene un total de {df_eeuu['state_province'].isnull().sum()} nulos en la columna 'state_province'.\")"
   ]
  },
  {
   "cell_type": "code",
   "execution_count": 17,
   "metadata": {},
   "outputs": [],
   "source": [
    "df_argentina.fillna(value= \"Unknown\", inplace=True)\n",
    "df_canada.fillna(value= \"Unknown\", inplace=True)\n",
    "df_eeuu.fillna(value= \"Unknown\", inplace=True)"
   ]
  },
  {
   "cell_type": "code",
   "execution_count": 18,
   "metadata": {},
   "outputs": [
    {
     "name": "stdout",
     "output_type": "stream",
     "text": [
      "Después de la limpieza, el dataframe df_argentina tiene un total de 0 nulos en la columna 'state_province'.\n",
      "Después de la limpieza, el dataframe df_canada tiene un total de 0 nulos en la columna 'state_province'.\n",
      "Después de la limpieza, el dataframe df_eeuu tiene un total de 0 nulos en la columna 'state_province'.\n"
     ]
    }
   ],
   "source": [
    "print(f\"Después de la limpieza, el dataframe df_argentina tiene un total de {df_argentina['state_province'].isnull().sum()} nulos en la columna 'state_province'.\")\n",
    "print(f\"Después de la limpieza, el dataframe df_canada tiene un total de {df_canada['state_province'].isnull().sum()} nulos en la columna 'state_province'.\")\n",
    "print(f\"Después de la limpieza, el dataframe df_eeuu tiene un total de {df_eeuu['state_province'].isnull().sum()} nulos en la columna 'state_province'.\")"
   ]
  },
  {
   "cell_type": "code",
   "execution_count": 19,
   "metadata": {},
   "outputs": [],
   "source": [
    "df_eeuu[\"state_province\"].replace(\"NV\", \"Nevada\", inplace = True)\n",
    "df_eeuu[\"state_province\"].replace(\"TX\", \"Texas\", inplace = True)\n",
    "df_eeuu[\"state_province\"].replace(\"IN\", \"Indianapolis\", inplace = True)\n",
    "df_eeuu[\"state_province\"].replace(\"CA\", \"California\", inplace = True)\n",
    "df_eeuu[\"state_province\"].replace(\"VA\", \"Virginia\", inplace = True)\n",
    "df_eeuu[\"state_province\"].replace(\"NY\", \"New York\", inplace = True)\n",
    "df_eeuu[\"state_province\"].replace(\"MI\", \"Michigan\", inplace = True)\n",
    "df_eeuu[\"state_province\"].replace(\"GA\", \"Georgia\", inplace = True)\n",
    "df_eeuu[\"state_province\"].replace(\"ND\", \"North Dakota\", inplace = True)\n",
    "df_eeuu[\"state_province\"].replace(\"New York, NY\", \"New York\", inplace = True)\n",
    "df_argentina[\"state_province\"].replace(\"Ciudad Autónoma de Buenos Aires\", \"Buenos Aires\", inplace = True)"
   ]
  },
  {
   "cell_type": "code",
   "execution_count": 20,
   "metadata": {},
   "outputs": [],
   "source": [
    "provincias_argentina = df_argentina[\"state_province\"].unique()\n",
    "provincias_canada = df_canada[\"state_province\"].unique()\n",
    "provincias_eeuu = df_eeuu[\"state_province\"].unique()"
   ]
  },
  {
   "cell_type": "code",
   "execution_count": 21,
   "metadata": {},
   "outputs": [
    {
     "name": "stdout",
     "output_type": "stream",
     "text": [
      "En el df_argentina, los valores únicos para la columna de ['state_province'] son: \n",
      " ['Buenos Aires' 'Entre Ríos' 'Salta' 'Córdoba' 'Mendoza' 'Santa Fé'\n",
      " 'Unknown' 'Santiago Del Estero' 'Misiones' 'Catamarca' 'Formosa' 'Jujuy'\n",
      " 'La Rioja' 'La Pampa' 'San Juan' 'San Luis' 'Tucumán'] \n",
      " ----------\n",
      "En el df_canada, los valores únicos para la columna de ['state_province'] son: \n",
      " ['Quebec' 'Ontario' 'Nova Scotia' 'British Columbia' 'Alberta' 'Manitoba'\n",
      " 'New Brunswick' 'Saskatchewan' 'Unknown' 'Newfoundland and Labrador'\n",
      " 'Prince Edward Island' 'Yukon'] \n",
      " ----------\n",
      "En el df_eeuu, los valores únicos para la columna de ['state_province'] son: \n",
      " ['Unknown' 'Pennsylvania' 'Nevada' 'Iowa' 'Virginia' 'Texas' 'Colorado'\n",
      " 'Indianapolis' 'California' 'South Carolina' 'Washington' 'New York'\n",
      " 'North Dakota' 'Michigan' 'Ohio' 'Florida' 'North Carolina' 'Georgia'] \n",
      " ----------\n"
     ]
    }
   ],
   "source": [
    "print(f\"En el df_argentina, los valores únicos para la columna de {['state_province']} son: \\n {provincias_argentina} \\n ----------\")\n",
    "print(f\"En el df_canada, los valores únicos para la columna de {['state_province']} son: \\n {provincias_canada} \\n ----------\")\n",
    "print(f\"En el df_eeuu, los valores únicos para la columna de {['state_province']} son: \\n {provincias_eeuu} \\n ----------\")"
   ]
  },
  {
   "cell_type": "code",
   "execution_count": 23,
   "metadata": {},
   "outputs": [
    {
     "name": "stdout",
     "output_type": "stream",
     "text": [
      "La latitud de Buenos Aires es -34.6075682, y su longitud es -58.4370894.\n"
     ]
    }
   ],
   "source": [
    "geolocator = Nominatim(user_agent=\"Lidya\")\n",
    "location = geolocator.geocode(\"Buenos Aires\")\n",
    "latitud = location.latitude\n",
    "longitud = location.longitude\n",
    "print(f\"La latitud de Buenos Aires es {location.latitude}, y su longitud es {location.longitude}.\")"
   ]
  },
  {
   "cell_type": "code",
   "execution_count": 28,
   "metadata": {},
   "outputs": [],
   "source": [
    "provincias = list(provincias_argentina) + list(provincias_canada) + list(provincias_eeuu)"
   ]
  },
  {
   "cell_type": "code",
   "execution_count": 30,
   "metadata": {},
   "outputs": [
    {
     "data": {
      "text/html": [
       "<div>\n",
       "<style scoped>\n",
       "    .dataframe tbody tr th:only-of-type {\n",
       "        vertical-align: middle;\n",
       "    }\n",
       "\n",
       "    .dataframe tbody tr th {\n",
       "        vertical-align: top;\n",
       "    }\n",
       "\n",
       "    .dataframe thead th {\n",
       "        text-align: right;\n",
       "    }\n",
       "</style>\n",
       "<table border=\"1\" class=\"dataframe\">\n",
       "  <thead>\n",
       "    <tr style=\"text-align: right;\">\n",
       "      <th></th>\n",
       "      <th>provincia</th>\n",
       "      <th>latitud</th>\n",
       "      <th>longitud</th>\n",
       "    </tr>\n",
       "  </thead>\n",
       "  <tbody>\n",
       "    <tr>\n",
       "      <th>0</th>\n",
       "      <td>Buenos Aires</td>\n",
       "      <td>-34.607568</td>\n",
       "      <td>-58.437089</td>\n",
       "    </tr>\n",
       "    <tr>\n",
       "      <th>1</th>\n",
       "      <td>Entre Ríos</td>\n",
       "      <td>-31.625284</td>\n",
       "      <td>-59.353958</td>\n",
       "    </tr>\n",
       "    <tr>\n",
       "      <th>2</th>\n",
       "      <td>Salta</td>\n",
       "      <td>-25.107670</td>\n",
       "      <td>-64.349496</td>\n",
       "    </tr>\n",
       "    <tr>\n",
       "      <th>3</th>\n",
       "      <td>Córdoba</td>\n",
       "      <td>37.884581</td>\n",
       "      <td>-4.776014</td>\n",
       "    </tr>\n",
       "    <tr>\n",
       "      <th>4</th>\n",
       "      <td>Mendoza</td>\n",
       "      <td>-34.787093</td>\n",
       "      <td>-68.438187</td>\n",
       "    </tr>\n",
       "  </tbody>\n",
       "</table>\n",
       "</div>"
      ],
      "text/plain": [
       "      provincia    latitud   longitud\n",
       "0  Buenos Aires -34.607568 -58.437089\n",
       "1    Entre Ríos -31.625284 -59.353958\n",
       "2         Salta -25.107670 -64.349496\n",
       "3       Córdoba  37.884581  -4.776014\n",
       "4       Mendoza -34.787093 -68.438187"
      ]
     },
     "execution_count": 30,
     "metadata": {},
     "output_type": "execute_result"
    }
   ],
   "source": [
    "provincias = list(provincias_argentina) + list(provincias_canada) + list(provincias_eeuu)\n",
    "latitudes = []\n",
    "longitudes = []\n",
    "for elem in provincias:\n",
    "\n",
    "    geolocator = Nominatim(user_agent=\"Lidya\")\n",
    "    location = geolocator.geocode(elem)\n",
    "    latitudes.append(location.latitude)\n",
    "    longitudes.append(location.longitude)\n",
    "    \n",
    "\n",
    "dicc_latlon = {\"provincia\": provincias, \"latitud\" : latitudes, \"longitud\": longitudes}\n",
    "df_latitud_longitud = pd.DataFrame(dicc_latlon)\n",
    "df_latitud_longitud.head()\n",
    "\n"
   ]
  },
  {
   "cell_type": "code",
   "execution_count": null,
   "metadata": {},
   "outputs": [],
   "source": []
  }
 ],
 "metadata": {
  "kernelspec": {
   "display_name": "Python 3",
   "language": "python",
   "name": "python3"
  },
  "language_info": {
   "codemirror_mode": {
    "name": "ipython",
    "version": 3
   },
   "file_extension": ".py",
   "mimetype": "text/x-python",
   "name": "python",
   "nbconvert_exporter": "python",
   "pygments_lexer": "ipython3",
   "version": "3.10.11"
  },
  "orig_nbformat": 4
 },
 "nbformat": 4,
 "nbformat_minor": 2
}
