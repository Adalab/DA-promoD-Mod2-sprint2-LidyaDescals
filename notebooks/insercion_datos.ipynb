{
 "cells": [
  {
   "attachments": {},
   "cell_type": "markdown",
   "metadata": {},
   "source": [
    "# **Evaluación del Módulo 2 Sprint 2**\n",
    "## **Inserción de datos**\n",
    "### **Lidya Descals**\n",
    "\n",
    "#### En este documento se llaman todos los métodos de la clase Universidades y se insertan los datos en la BBDD de MySQL.\n",
    "---"
   ]
  },
  {
   "cell_type": "code",
   "execution_count": 1,
   "metadata": {},
   "outputs": [],
   "source": [
    "import pandas as pd\n",
    "import numpy as np\n",
    "import requests\n",
    "import mysql.connector\n",
    "import sys\n",
    "\n",
    "#Importamos la librería para sacar las coordenadas.\n",
    "from geopy.geocoders import Nominatim\n",
    "\n",
    "#Importamos la clase.\n",
    "sys.path.append(\"../\")\n",
    "from src import clase_universidades as uni\n"
   ]
  },
  {
   "attachments": {},
   "cell_type": "markdown",
   "metadata": {},
   "source": [
    "---\n",
    "### Extraccion"
   ]
  },
  {
   "cell_type": "code",
   "execution_count": 2,
   "metadata": {},
   "outputs": [],
   "source": [
    "#Instanciamos la clase.\n",
    "datos = uni.Universidades(\"universidades\", \"AlumnaAdalab\")"
   ]
  },
  {
   "cell_type": "code",
   "execution_count": 3,
   "metadata": {},
   "outputs": [
    {
     "name": "stdout",
     "output_type": "stream",
     "text": [
      "La solicitud ha tenido una respuesta con código 200, y nos devuelve el mensaje OK\n"
     ]
    },
    {
     "data": {
      "text/html": [
       "<div>\n",
       "<style scoped>\n",
       "    .dataframe tbody tr th:only-of-type {\n",
       "        vertical-align: middle;\n",
       "    }\n",
       "\n",
       "    .dataframe tbody tr th {\n",
       "        vertical-align: top;\n",
       "    }\n",
       "\n",
       "    .dataframe thead th {\n",
       "        text-align: right;\n",
       "    }\n",
       "</style>\n",
       "<table border=\"1\" class=\"dataframe\">\n",
       "  <thead>\n",
       "    <tr style=\"text-align: right;\">\n",
       "      <th></th>\n",
       "      <th>state-province</th>\n",
       "      <th>domains</th>\n",
       "      <th>name</th>\n",
       "      <th>country</th>\n",
       "      <th>web_pages</th>\n",
       "      <th>alpha_two_code</th>\n",
       "    </tr>\n",
       "  </thead>\n",
       "  <tbody>\n",
       "    <tr>\n",
       "      <th>0</th>\n",
       "      <td>Buenos Aires</td>\n",
       "      <td>[atlantida.edu.ar]</td>\n",
       "      <td>Universidad Atlantida Argentina</td>\n",
       "      <td>Argentina</td>\n",
       "      <td>[http://www.atlantida.edu.ar/]</td>\n",
       "      <td>AR</td>\n",
       "    </tr>\n",
       "  </tbody>\n",
       "</table>\n",
       "</div>"
      ],
      "text/plain": [
       "  state-province             domains                             name  \\\n",
       "0   Buenos Aires  [atlantida.edu.ar]  Universidad Atlantida Argentina   \n",
       "\n",
       "     country                       web_pages alpha_two_code  \n",
       "0  Argentina  [http://www.atlantida.edu.ar/]             AR  "
      ]
     },
     "execution_count": 3,
     "metadata": {},
     "output_type": "execute_result"
    }
   ],
   "source": [
    "df_argentina = datos.extraer_argentina()\n",
    "df_argentina.head(1)"
   ]
  },
  {
   "cell_type": "code",
   "execution_count": 4,
   "metadata": {},
   "outputs": [
    {
     "name": "stdout",
     "output_type": "stream",
     "text": [
      "La solicitud ha tenido una respuesta con código 200, y nos devuelve el mensaje OK\n"
     ]
    },
    {
     "data": {
      "text/html": [
       "<div>\n",
       "<style scoped>\n",
       "    .dataframe tbody tr th:only-of-type {\n",
       "        vertical-align: middle;\n",
       "    }\n",
       "\n",
       "    .dataframe tbody tr th {\n",
       "        vertical-align: top;\n",
       "    }\n",
       "\n",
       "    .dataframe thead th {\n",
       "        text-align: right;\n",
       "    }\n",
       "</style>\n",
       "<table border=\"1\" class=\"dataframe\">\n",
       "  <thead>\n",
       "    <tr style=\"text-align: right;\">\n",
       "      <th></th>\n",
       "      <th>state-province</th>\n",
       "      <th>domains</th>\n",
       "      <th>name</th>\n",
       "      <th>country</th>\n",
       "      <th>web_pages</th>\n",
       "      <th>alpha_two_code</th>\n",
       "    </tr>\n",
       "  </thead>\n",
       "  <tbody>\n",
       "    <tr>\n",
       "      <th>0</th>\n",
       "      <td>Quebec</td>\n",
       "      <td>[cstj.qc.ca]</td>\n",
       "      <td>Cégep de Saint-Jérôme</td>\n",
       "      <td>Canada</td>\n",
       "      <td>[https://www.cstj.qc.ca, https://ccmt.cstj.qc....</td>\n",
       "      <td>CA</td>\n",
       "    </tr>\n",
       "  </tbody>\n",
       "</table>\n",
       "</div>"
      ],
      "text/plain": [
       "  state-province       domains                   name country  \\\n",
       "0         Quebec  [cstj.qc.ca]  Cégep de Saint-Jérôme  Canada   \n",
       "\n",
       "                                           web_pages alpha_two_code  \n",
       "0  [https://www.cstj.qc.ca, https://ccmt.cstj.qc....             CA  "
      ]
     },
     "execution_count": 4,
     "metadata": {},
     "output_type": "execute_result"
    }
   ],
   "source": [
    "df_canada = datos.extraer_canada()\n",
    "df_canada.head(1)"
   ]
  },
  {
   "cell_type": "code",
   "execution_count": 5,
   "metadata": {},
   "outputs": [
    {
     "name": "stdout",
     "output_type": "stream",
     "text": [
      "La solicitud ha tenido una respuesta con código 200, y nos devuelve el mensaje OK\n"
     ]
    },
    {
     "data": {
      "text/html": [
       "<div>\n",
       "<style scoped>\n",
       "    .dataframe tbody tr th:only-of-type {\n",
       "        vertical-align: middle;\n",
       "    }\n",
       "\n",
       "    .dataframe tbody tr th {\n",
       "        vertical-align: top;\n",
       "    }\n",
       "\n",
       "    .dataframe thead th {\n",
       "        text-align: right;\n",
       "    }\n",
       "</style>\n",
       "<table border=\"1\" class=\"dataframe\">\n",
       "  <thead>\n",
       "    <tr style=\"text-align: right;\">\n",
       "      <th></th>\n",
       "      <th>state-province</th>\n",
       "      <th>domains</th>\n",
       "      <th>name</th>\n",
       "      <th>country</th>\n",
       "      <th>web_pages</th>\n",
       "      <th>alpha_two_code</th>\n",
       "    </tr>\n",
       "  </thead>\n",
       "  <tbody>\n",
       "    <tr>\n",
       "      <th>0</th>\n",
       "      <td>None</td>\n",
       "      <td>[marywood.edu]</td>\n",
       "      <td>Marywood University</td>\n",
       "      <td>United States</td>\n",
       "      <td>[http://www.marywood.edu]</td>\n",
       "      <td>US</td>\n",
       "    </tr>\n",
       "  </tbody>\n",
       "</table>\n",
       "</div>"
      ],
      "text/plain": [
       "  state-province         domains                 name        country  \\\n",
       "0           None  [marywood.edu]  Marywood University  United States   \n",
       "\n",
       "                   web_pages alpha_two_code  \n",
       "0  [http://www.marywood.edu]             US  "
      ]
     },
     "execution_count": 5,
     "metadata": {},
     "output_type": "execute_result"
    }
   ],
   "source": [
    "df_eeuu = datos.extraer_eeuu()\n",
    "df_eeuu.head(1)"
   ]
  },
  {
   "attachments": {},
   "cell_type": "markdown",
   "metadata": {},
   "source": [
    "---\n",
    "### Limpieza"
   ]
  },
  {
   "cell_type": "code",
   "execution_count": 6,
   "metadata": {},
   "outputs": [
    {
     "name": "stdout",
     "output_type": "stream",
     "text": [
      "El dataframe tiene 0 duplicados.\n",
      "Después de la limpieza, el dataframe tiene 0 duplicados.\n",
      "El dataframe tiene un total de 22 nulos en la columna 'state_province'.\n",
      "Después de la limpieza, el dataframe tiene un total de 0 nulos en la columna 'state_province'.\n"
     ]
    },
    {
     "data": {
      "text/html": [
       "<div>\n",
       "<style scoped>\n",
       "    .dataframe tbody tr th:only-of-type {\n",
       "        vertical-align: middle;\n",
       "    }\n",
       "\n",
       "    .dataframe tbody tr th {\n",
       "        vertical-align: top;\n",
       "    }\n",
       "\n",
       "    .dataframe thead th {\n",
       "        text-align: right;\n",
       "    }\n",
       "</style>\n",
       "<table border=\"1\" class=\"dataframe\">\n",
       "  <thead>\n",
       "    <tr style=\"text-align: right;\">\n",
       "      <th></th>\n",
       "      <th>state_province</th>\n",
       "      <th>name</th>\n",
       "      <th>country</th>\n",
       "      <th>web_pages</th>\n",
       "      <th>alpha_two_code</th>\n",
       "    </tr>\n",
       "  </thead>\n",
       "  <tbody>\n",
       "    <tr>\n",
       "      <th>0</th>\n",
       "      <td>Buenos Aires</td>\n",
       "      <td>Universidad Atlantida Argentina</td>\n",
       "      <td>Argentina</td>\n",
       "      <td>http://www.atlantida.edu.ar/</td>\n",
       "      <td>AR</td>\n",
       "    </tr>\n",
       "  </tbody>\n",
       "</table>\n",
       "</div>"
      ],
      "text/plain": [
       "  state_province                             name    country  \\\n",
       "0   Buenos Aires  Universidad Atlantida Argentina  Argentina   \n",
       "\n",
       "                      web_pages alpha_two_code  \n",
       "0  http://www.atlantida.edu.ar/             AR  "
      ]
     },
     "execution_count": 6,
     "metadata": {},
     "output_type": "execute_result"
    }
   ],
   "source": [
    "df_argentina = datos.limpieza(df_argentina)\n",
    "df_argentina.head(1)"
   ]
  },
  {
   "cell_type": "code",
   "execution_count": 7,
   "metadata": {},
   "outputs": [
    {
     "name": "stdout",
     "output_type": "stream",
     "text": [
      "El dataframe tiene 4 duplicados.\n",
      "Después de la limpieza, el dataframe tiene 0 duplicados.\n",
      "El dataframe tiene un total de 8 nulos en la columna 'state_province'.\n",
      "Después de la limpieza, el dataframe tiene un total de 0 nulos en la columna 'state_province'.\n"
     ]
    },
    {
     "data": {
      "text/html": [
       "<div>\n",
       "<style scoped>\n",
       "    .dataframe tbody tr th:only-of-type {\n",
       "        vertical-align: middle;\n",
       "    }\n",
       "\n",
       "    .dataframe tbody tr th {\n",
       "        vertical-align: top;\n",
       "    }\n",
       "\n",
       "    .dataframe thead th {\n",
       "        text-align: right;\n",
       "    }\n",
       "</style>\n",
       "<table border=\"1\" class=\"dataframe\">\n",
       "  <thead>\n",
       "    <tr style=\"text-align: right;\">\n",
       "      <th></th>\n",
       "      <th>state_province</th>\n",
       "      <th>name</th>\n",
       "      <th>country</th>\n",
       "      <th>web_pages</th>\n",
       "      <th>alpha_two_code</th>\n",
       "    </tr>\n",
       "  </thead>\n",
       "  <tbody>\n",
       "    <tr>\n",
       "      <th>0</th>\n",
       "      <td>Quebec</td>\n",
       "      <td>Cégep de Saint-Jérôme</td>\n",
       "      <td>Canada</td>\n",
       "      <td>https://www.cstj.qc.ca</td>\n",
       "      <td>CA</td>\n",
       "    </tr>\n",
       "  </tbody>\n",
       "</table>\n",
       "</div>"
      ],
      "text/plain": [
       "  state_province                   name country               web_pages  \\\n",
       "0         Quebec  Cégep de Saint-Jérôme  Canada  https://www.cstj.qc.ca   \n",
       "\n",
       "  alpha_two_code  \n",
       "0             CA  "
      ]
     },
     "execution_count": 7,
     "metadata": {},
     "output_type": "execute_result"
    }
   ],
   "source": [
    "df_canada = datos.limpieza(df_canada)\n",
    "df_canada.head(1)"
   ]
  },
  {
   "cell_type": "code",
   "execution_count": 8,
   "metadata": {},
   "outputs": [
    {
     "name": "stdout",
     "output_type": "stream",
     "text": [
      "El dataframe tiene 20 duplicados.\n",
      "Después de la limpieza, el dataframe tiene 0 duplicados.\n",
      "El dataframe tiene un total de 2208 nulos en la columna 'state_province'.\n",
      "Después de la limpieza, el dataframe tiene un total de 0 nulos en la columna 'state_province'.\n"
     ]
    },
    {
     "data": {
      "text/html": [
       "<div>\n",
       "<style scoped>\n",
       "    .dataframe tbody tr th:only-of-type {\n",
       "        vertical-align: middle;\n",
       "    }\n",
       "\n",
       "    .dataframe tbody tr th {\n",
       "        vertical-align: top;\n",
       "    }\n",
       "\n",
       "    .dataframe thead th {\n",
       "        text-align: right;\n",
       "    }\n",
       "</style>\n",
       "<table border=\"1\" class=\"dataframe\">\n",
       "  <thead>\n",
       "    <tr style=\"text-align: right;\">\n",
       "      <th></th>\n",
       "      <th>state_province</th>\n",
       "      <th>name</th>\n",
       "      <th>country</th>\n",
       "      <th>web_pages</th>\n",
       "      <th>alpha_two_code</th>\n",
       "    </tr>\n",
       "  </thead>\n",
       "  <tbody>\n",
       "    <tr>\n",
       "      <th>0</th>\n",
       "      <td>Unknown</td>\n",
       "      <td>Marywood University</td>\n",
       "      <td>United States</td>\n",
       "      <td>http://www.marywood.edu</td>\n",
       "      <td>US</td>\n",
       "    </tr>\n",
       "  </tbody>\n",
       "</table>\n",
       "</div>"
      ],
      "text/plain": [
       "  state_province                 name        country                web_pages  \\\n",
       "0        Unknown  Marywood University  United States  http://www.marywood.edu   \n",
       "\n",
       "  alpha_two_code  \n",
       "0             US  "
      ]
     },
     "execution_count": 8,
     "metadata": {},
     "output_type": "execute_result"
    }
   ],
   "source": [
    "df_eeuu = datos.limpieza(df_eeuu)\n",
    "df_eeuu.head(1)"
   ]
  },
  {
   "attachments": {},
   "cell_type": "markdown",
   "metadata": {},
   "source": [
    "---\n",
    "### Extracción de coordenadas y unión de dataframes"
   ]
  },
  {
   "cell_type": "code",
   "execution_count": 9,
   "metadata": {},
   "outputs": [
    {
     "data": {
      "text/html": [
       "<div>\n",
       "<style scoped>\n",
       "    .dataframe tbody tr th:only-of-type {\n",
       "        vertical-align: middle;\n",
       "    }\n",
       "\n",
       "    .dataframe tbody tr th {\n",
       "        vertical-align: top;\n",
       "    }\n",
       "\n",
       "    .dataframe thead th {\n",
       "        text-align: right;\n",
       "    }\n",
       "</style>\n",
       "<table border=\"1\" class=\"dataframe\">\n",
       "  <thead>\n",
       "    <tr style=\"text-align: right;\">\n",
       "      <th></th>\n",
       "      <th>state_province</th>\n",
       "      <th>latitude</th>\n",
       "      <th>longitude</th>\n",
       "    </tr>\n",
       "  </thead>\n",
       "  <tbody>\n",
       "    <tr>\n",
       "      <th>0</th>\n",
       "      <td>Pennsylvania</td>\n",
       "      <td>40.969989</td>\n",
       "      <td>-77.727883</td>\n",
       "    </tr>\n",
       "  </tbody>\n",
       "</table>\n",
       "</div>"
      ],
      "text/plain": [
       "  state_province   latitude  longitude\n",
       "0   Pennsylvania  40.969989 -77.727883"
      ]
     },
     "execution_count": 9,
     "metadata": {},
     "output_type": "execute_result"
    }
   ],
   "source": [
    "df_latitud_longitud = datos.sacar_coordenadas(df_argentina, df_canada, df_eeuu)\n",
    "df_latitud_longitud.head(1)"
   ]
  },
  {
   "cell_type": "code",
   "execution_count": 10,
   "metadata": {},
   "outputs": [
    {
     "data": {
      "text/html": [
       "<div>\n",
       "<style scoped>\n",
       "    .dataframe tbody tr th:only-of-type {\n",
       "        vertical-align: middle;\n",
       "    }\n",
       "\n",
       "    .dataframe tbody tr th {\n",
       "        vertical-align: top;\n",
       "    }\n",
       "\n",
       "    .dataframe thead th {\n",
       "        text-align: right;\n",
       "    }\n",
       "</style>\n",
       "<table border=\"1\" class=\"dataframe\">\n",
       "  <thead>\n",
       "    <tr style=\"text-align: right;\">\n",
       "      <th></th>\n",
       "      <th>state_province</th>\n",
       "      <th>name</th>\n",
       "      <th>country</th>\n",
       "      <th>web_pages</th>\n",
       "      <th>alpha_two_code</th>\n",
       "      <th>latitude</th>\n",
       "      <th>longitude</th>\n",
       "    </tr>\n",
       "  </thead>\n",
       "  <tbody>\n",
       "    <tr>\n",
       "      <th>295</th>\n",
       "      <td>Unknown</td>\n",
       "      <td>Brigham Young University Hawaii</td>\n",
       "      <td>United States</td>\n",
       "      <td>http://www.byuh.edu/</td>\n",
       "      <td>US</td>\n",
       "      <td>Unknown</td>\n",
       "      <td>Unknown</td>\n",
       "    </tr>\n",
       "  </tbody>\n",
       "</table>\n",
       "</div>"
      ],
      "text/plain": [
       "    state_province                             name        country  \\\n",
       "295        Unknown  Brigham Young University Hawaii  United States   \n",
       "\n",
       "                web_pages alpha_two_code latitude longitude  \n",
       "295  http://www.byuh.edu/             US  Unknown   Unknown  "
      ]
     },
     "execution_count": 10,
     "metadata": {},
     "output_type": "execute_result"
    }
   ],
   "source": [
    "df_completo = datos.unir_dataframes(df_argentina, df_canada, df_eeuu, df_latitud_longitud)\n",
    "df_completo.head(1)"
   ]
  },
  {
   "attachments": {},
   "cell_type": "markdown",
   "metadata": {},
   "source": [
    "---\n",
    "### Creación de la base de datos y sus tablas"
   ]
  },
  {
   "cell_type": "code",
   "execution_count": 11,
   "metadata": {},
   "outputs": [
    {
     "name": "stdout",
     "output_type": "stream",
     "text": [
      "Conexión realizada con éxito.\n"
     ]
    },
    {
     "data": {
      "text/plain": [
       "'La base de datos universidades ha sido creada correctamente.'"
      ]
     },
     "execution_count": 11,
     "metadata": {},
     "output_type": "execute_result"
    }
   ],
   "source": [
    "datos.crear_bbdd_sql()"
   ]
  },
  {
   "cell_type": "code",
   "execution_count": 12,
   "metadata": {},
   "outputs": [
    {
     "data": {
      "text/plain": [
       "\"Las tablas 'paises' y 'universidades' han sido creadas correctamente.\""
      ]
     },
     "execution_count": 12,
     "metadata": {},
     "output_type": "execute_result"
    }
   ],
   "source": [
    "datos.crear_tablas_sql()"
   ]
  },
  {
   "attachments": {},
   "cell_type": "markdown",
   "metadata": {},
   "source": [
    "---\n",
    "### Inserción de datos"
   ]
  },
  {
   "cell_type": "code",
   "execution_count": 13,
   "metadata": {},
   "outputs": [],
   "source": [
    "#Para insertar los datos, filtramos el df_completo para que la inserción de los valores \"Unknown\" no provoque un error y dejamos una única fila por cada provincia.\n",
    "\n",
    "df_completo_paises = df_completo.drop(df_completo[df_completo['state_province'] == \"Unknown\"].index, inplace=False).drop_duplicates([\"state_province\"], inplace = False)\n",
    "\n",
    "for fila, elem in df_completo_paises.iterrows():\n",
    "    \n",
    "    query_paises = f\"\"\"\n",
    "                    INSERT INTO paises (nombre_pais, nombre_provincia, latitud, longitud)\n",
    "                    VALUES (\"{elem['country']}\", \"{elem['state_province']}\", {elem['latitude']}, {elem['longitude']});\n",
    "                    \"\"\"\n",
    "    \n",
    "    datos.insertar_datos_sql(query_paises)"
   ]
  },
  {
   "cell_type": "code",
   "execution_count": 14,
   "metadata": {},
   "outputs": [
    {
     "data": {
      "text/plain": [
       "'Las inserción se ha realizado correctamente.'"
      ]
     },
     "execution_count": 14,
     "metadata": {},
     "output_type": "execute_result"
    }
   ],
   "source": [
    "#Añadimos ahora los valores \"Unknown\" para cada país.\n",
    "\n",
    "query_paises_unknown = f\"\"\"\n",
    "                INSERT INTO paises (nombre_pais, nombre_provincia, latitud, longitud)\n",
    "                VALUES (\"Argentina\", \"Unknown\", 0.0, 0.0),\n",
    "                       (\"Canada\", \"Unknown\", 0.0, 0.0),\n",
    "                       (\"United States\", \"Unknown\", 0.0, 0.0);\n",
    "                \"\"\"\n",
    "\n",
    "datos.insertar_datos_sql(query_paises_unknown)"
   ]
  },
  {
   "cell_type": "code",
   "execution_count": 15,
   "metadata": {},
   "outputs": [],
   "source": [
    "#Eliminamos las comillas simples dentro de los nombres de las universidades para evitar errores en la inserción.\n",
    "\n",
    "df_completo[\"name\"] = df_completo[\"name\"].str.replace(\"'\", \"\")\n",
    "\n",
    "for fila, elem in df_completo.iterrows():\n",
    "\n",
    "\n",
    "    idestado = datos.extraer_idestado(elem[\"state_province\"])\n",
    "    \n",
    "    \n",
    "    query_universidades = f\"\"\"\n",
    "                            INSERT INTO universidades (nombre_universidad, pagina_web, paises_idestado)\n",
    "                            VALUES ('{elem[\"name\"]}', '{elem[\"web_pages\"]}', {idestado});\n",
    "                            \"\"\"\n",
    "    \n",
    "    datos.insertar_datos_sql(query_universidades)"
   ]
  }
 ],
 "metadata": {
  "kernelspec": {
   "display_name": "Python 3",
   "language": "python",
   "name": "python3"
  },
  "language_info": {
   "codemirror_mode": {
    "name": "ipython",
    "version": 3
   },
   "file_extension": ".py",
   "mimetype": "text/x-python",
   "name": "python",
   "nbconvert_exporter": "python",
   "pygments_lexer": "ipython3",
   "version": "3.10.11"
  },
  "orig_nbformat": 4
 },
 "nbformat": 4,
 "nbformat_minor": 2
}
